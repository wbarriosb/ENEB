{
  "nbformat": 4,
  "nbformat_minor": 0,
  "metadata": {
    "colab": {
      "provenance": [],
      "authorship_tag": "ABX9TyOeko2WcbfShrqwXICLS0Rw",
      "include_colab_link": true
    },
    "kernelspec": {
      "name": "python3",
      "display_name": "Python 3"
    },
    "language_info": {
      "name": "python"
    }
  },
  "cells": [
    {
      "cell_type": "markdown",
      "metadata": {
        "id": "view-in-github",
        "colab_type": "text"
      },
      "source": [
        "<a href=\"https://colab.research.google.com/github/wbarriosb/ENEB/blob/main/TF_P1_LaValenciana.ipynb\" target=\"_parent\"><img src=\"https://colab.research.google.com/assets/colab-badge.svg\" alt=\"Open In Colab\"/></a>"
      ]
    },
    {
      "cell_type": "code",
      "source": [
        "import numpy as np"
      ],
      "metadata": {
        "id": "XxEB84ZotPgD"
      },
      "execution_count": 22,
      "outputs": []
    },
    {
      "cell_type": "code",
      "source": [
        "pesos = [5.2, 4.9, 5.5, 5.0, 5.8, 5.3, 5.1, 5.6, 4.7, 5.4, 5.0, 5.7, 5.2, 5.1, 5.3, 5.0, 5.6, 5.2, 5.4, 5.5, 5.7, 5.1, 5.8, 5.0, 5.3, 5.6, 4.9, 5.5, 5.2]"
      ],
      "metadata": {
        "id": "T73fQLBJtRKC"
      },
      "execution_count": 23,
      "outputs": []
    },
    {
      "cell_type": "code",
      "source": [
        "n = len(pesos)\n",
        "print(f\"Tamaño de la muestra: {n}\")"
      ],
      "metadata": {
        "colab": {
          "base_uri": "https://localhost:8080/"
        },
        "id": "Cnk5l25jthSd",
        "outputId": "a18db594-10d0-4d0d-a524-4eb60d0eff03"
      },
      "execution_count": 24,
      "outputs": [
        {
          "output_type": "stream",
          "name": "stdout",
          "text": [
            "Tamaño de la muestra: 29\n"
          ]
        }
      ]
    },
    {
      "cell_type": "code",
      "source": [
        "media_muestral = round(np.mean(pesos), 5)\n",
        "print(f\"Media Muestral= {media_muestral}\")"
      ],
      "metadata": {
        "colab": {
          "base_uri": "https://localhost:8080/"
        },
        "id": "xxgX1lbZtoBy",
        "outputId": "f3d06baf-032f-4908-b24c-1bf56b0ebc81"
      },
      "execution_count": 25,
      "outputs": [
        {
          "output_type": "stream",
          "name": "stdout",
          "text": [
            "Media Muestral= 5.29655\n"
          ]
        }
      ]
    },
    {
      "cell_type": "code",
      "source": [
        "desviacion_estandar_muestral = round(np.std(pesos, ddof=1), 5) #Parámetro ddof=1 para calcular la desviación estándar muestral\n",
        "print(f\"Desviación Estándar Muestral= {desviacion_estandar_muestral}\")"
      ],
      "metadata": {
        "colab": {
          "base_uri": "https://localhost:8080/"
        },
        "id": "Mli1oeGetp9a",
        "outputId": "44eae9fe-ec03-4ff0-f46b-bdcb5a81c253"
      },
      "execution_count": 26,
      "outputs": [
        {
          "output_type": "stream",
          "name": "stdout",
          "text": [
            "Desviación Estándar Muestral= 0.29457\n"
          ]
        }
      ]
    },
    {
      "cell_type": "code",
      "source": [
        "valor_tStudent= 2.048   #Valor de la distribución t-Student de n-1 grados de libertad"
      ],
      "metadata": {
        "id": "DmwAW2yWuyJs"
      },
      "execution_count": 27,
      "outputs": []
    },
    {
      "cell_type": "markdown",
      "source": [
        "Calculamos los límites inferior y superior del Intervalo de Confianza solicitado"
      ],
      "metadata": {
        "id": "IHYKy4xYxuRb"
      }
    },
    {
      "cell_type": "code",
      "source": [
        "IC_li= round(media_muestral - (valor_tStudent*desviacion_estandar_muestral/np.sqrt(n)), 5)\n",
        "IC_ls= round(media_muestral + (valor_tStudent*desviacion_estandar_muestral/np.sqrt(n)), 5)\n",
        "print(f\"Intervalo de Confianza IC(u)= [{IC_li}, {IC_ls}]\")"
      ],
      "metadata": {
        "colab": {
          "base_uri": "https://localhost:8080/"
        },
        "id": "gjEdbfhBu2xS",
        "outputId": "f8d3a3d9-19f5-4313-cd1e-d32ba84a2491"
      },
      "execution_count": 28,
      "outputs": [
        {
          "output_type": "stream",
          "name": "stdout",
          "text": [
            "Intervalo de Confianza IC(u)= [5.18452, 5.40858]\n"
          ]
        }
      ]
    }
  ]
}